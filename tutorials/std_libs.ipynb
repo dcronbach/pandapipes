{
 "cells": [
  {
   "cell_type": "markdown",
   "metadata": {},
   "source": [
    "# Standardbibliotheken"
   ]
  },
  {
   "cell_type": "markdown",
   "metadata": {},
   "source": [
    "Genau wie pandapower stellt auch pandapipes eine Reihe an Standardbibliotheken zur Verfügung, um die Arbeit mit dem Programm zu beschleunigen. Im Unterschied zu pandapower gibt es aber nicht nur eine Bauteil- sondern auch eine Fluidbibliothek, in der nach der Installation von pandapipes bereits einige Fluide abgelegt sind. Natürlich ist es aber auch möglich, neue Fluide zu erzeugen und diese der Bibliothek hinzuzufügen.\n",
    "\n",
    "Dieses Tutorial demonstriert den grundlegenden Umgang mit den hinterlegten Bibliotheken und zeigt, wie Komponenten und Fluide geladen und gespeichert werden können. Wir beginnen mit der Demonstration der Komponentenbibliothek, über welche pandapipes verschiedene Rohrleitungen und Pumpen zur Verfügung stellt.\n"
   ]
  },
  {
   "cell_type": "markdown",
   "metadata": {},
   "source": [
    "## pandapipes-Komponentenbibliothek"
   ]
  },
  {
   "cell_type": "markdown",
   "metadata": {},
   "source": [
    "Mit Hilfe der Funktion \"get_data\", welche im Modul std_type_toolbox definiert wird, lassen sich alle aktuell vorhandenen Einträge in der Standardbibliothek einsehen. Neben dem Pfad zur entsprechenden Datei wird in einem zweiten Parameter auch der Komponententyp abgefragt. Im Folgenden werden die Einträge der gespeicherten pipes geplottet."
   ]
  },
  {
   "cell_type": "code",
   "execution_count": 9,
   "metadata": {},
   "outputs": [
    {
     "ename": "FileNotFoundError",
     "evalue": "[Errno 2] File ..\\..\\pandapipes\\std_types\\library\\Pipe.csv does not exist: '..\\\\..\\\\pandapipes\\\\std_types\\\\library\\\\Pipe.csv'",
     "output_type": "error",
     "traceback": [
      "\u001b[1;31m---------------------------------------------------------------------------\u001b[0m",
      "\u001b[1;31mFileNotFoundError\u001b[0m                         Traceback (most recent call last)",
      "\u001b[1;32m<ipython-input-9-8c2f7a984686>\u001b[0m in \u001b[0;36m<module>\u001b[1;34m\u001b[0m\n\u001b[0;32m      1\u001b[0m \u001b[1;32mfrom\u001b[0m \u001b[0mpandapipes\u001b[0m\u001b[1;33m.\u001b[0m\u001b[0mstd_types\u001b[0m\u001b[1;33m.\u001b[0m\u001b[0mstd_type_toolbox\u001b[0m \u001b[1;32mimport\u001b[0m \u001b[0mget_data\u001b[0m\u001b[1;33m\u001b[0m\u001b[1;33m\u001b[0m\u001b[0m\n\u001b[0;32m      2\u001b[0m \u001b[1;31m#print(get_data(r'..\\pandapipes\\std_types\\library\\Pipe.csv', 'pipe'))\u001b[0m\u001b[1;33m\u001b[0m\u001b[1;33m\u001b[0m\u001b[1;33m\u001b[0m\u001b[0m\n\u001b[1;32m----> 3\u001b[1;33m \u001b[0mprint\u001b[0m\u001b[1;33m(\u001b[0m\u001b[0mget_data\u001b[0m\u001b[1;33m(\u001b[0m\u001b[1;34mr'..\\..\\pandapipes\\std_types\\library\\Pipe.csv'\u001b[0m\u001b[1;33m,\u001b[0m \u001b[1;34m'pipe'\u001b[0m\u001b[1;33m)\u001b[0m\u001b[1;33m)\u001b[0m\u001b[1;33m\u001b[0m\u001b[1;33m\u001b[0m\u001b[0m\n\u001b[0m\u001b[0;32m      4\u001b[0m \u001b[1;33m\u001b[0m\u001b[0m\n",
      "\u001b[1;32m~\\pandapipes\\pandapipes\\std_types\\std_type_toolbox.py\u001b[0m in \u001b[0;36mget_data\u001b[1;34m(path, std_type_category)\u001b[0m\n\u001b[0;32m     23\u001b[0m         \u001b[0mdata\u001b[0m \u001b[1;33m=\u001b[0m \u001b[0mpd\u001b[0m\u001b[1;33m.\u001b[0m\u001b[0mread_csv\u001b[0m\u001b[1;33m(\u001b[0m\u001b[0mpath\u001b[0m\u001b[1;33m,\u001b[0m \u001b[0msep\u001b[0m\u001b[1;33m=\u001b[0m\u001b[1;34m';'\u001b[0m\u001b[1;33m,\u001b[0m \u001b[0mdtype\u001b[0m\u001b[1;33m=\u001b[0m\u001b[0mnp\u001b[0m\u001b[1;33m.\u001b[0m\u001b[0mfloat64\u001b[0m\u001b[1;33m)\u001b[0m\u001b[1;33m\u001b[0m\u001b[1;33m\u001b[0m\u001b[0m\n\u001b[0;32m     24\u001b[0m     \u001b[1;32melif\u001b[0m \u001b[0mstd_type_category\u001b[0m \u001b[1;33m==\u001b[0m \u001b[1;34m'pipe'\u001b[0m\u001b[1;33m:\u001b[0m\u001b[1;33m\u001b[0m\u001b[1;33m\u001b[0m\u001b[0m\n\u001b[1;32m---> 25\u001b[1;33m         \u001b[0mdata\u001b[0m \u001b[1;33m=\u001b[0m \u001b[0mpd\u001b[0m\u001b[1;33m.\u001b[0m\u001b[0mread_csv\u001b[0m\u001b[1;33m(\u001b[0m\u001b[0mpath\u001b[0m\u001b[1;33m,\u001b[0m \u001b[0msep\u001b[0m\u001b[1;33m=\u001b[0m\u001b[1;34m';'\u001b[0m\u001b[1;33m,\u001b[0m \u001b[0mindex_col\u001b[0m\u001b[1;33m=\u001b[0m\u001b[1;36m0\u001b[0m\u001b[1;33m)\u001b[0m\u001b[1;33m.\u001b[0m\u001b[0mT\u001b[0m\u001b[1;33m\u001b[0m\u001b[1;33m\u001b[0m\u001b[0m\n\u001b[0m\u001b[0;32m     26\u001b[0m     \u001b[1;32melse\u001b[0m\u001b[1;33m:\u001b[0m\u001b[1;33m\u001b[0m\u001b[1;33m\u001b[0m\u001b[0m\n\u001b[0;32m     27\u001b[0m         \u001b[1;32mraise\u001b[0m \u001b[0mAttributeError\u001b[0m\u001b[1;33m(\u001b[0m\u001b[1;34m'std_type_category %s not implemented yet'\u001b[0m \u001b[1;33m%\u001b[0m \u001b[0mstd_type_category\u001b[0m\u001b[1;33m)\u001b[0m\u001b[1;33m\u001b[0m\u001b[1;33m\u001b[0m\u001b[0m\n",
      "\u001b[1;32mC:\\Anaconda\\lib\\site-packages\\pandas\\io\\parsers.py\u001b[0m in \u001b[0;36mparser_f\u001b[1;34m(filepath_or_buffer, sep, delimiter, header, names, index_col, usecols, squeeze, prefix, mangle_dupe_cols, dtype, engine, converters, true_values, false_values, skipinitialspace, skiprows, skipfooter, nrows, na_values, keep_default_na, na_filter, verbose, skip_blank_lines, parse_dates, infer_datetime_format, keep_date_col, date_parser, dayfirst, cache_dates, iterator, chunksize, compression, thousands, decimal, lineterminator, quotechar, quoting, doublequote, escapechar, comment, encoding, dialect, error_bad_lines, warn_bad_lines, delim_whitespace, low_memory, memory_map, float_precision)\u001b[0m\n\u001b[0;32m    674\u001b[0m         )\n\u001b[0;32m    675\u001b[0m \u001b[1;33m\u001b[0m\u001b[0m\n\u001b[1;32m--> 676\u001b[1;33m         \u001b[1;32mreturn\u001b[0m \u001b[0m_read\u001b[0m\u001b[1;33m(\u001b[0m\u001b[0mfilepath_or_buffer\u001b[0m\u001b[1;33m,\u001b[0m \u001b[0mkwds\u001b[0m\u001b[1;33m)\u001b[0m\u001b[1;33m\u001b[0m\u001b[1;33m\u001b[0m\u001b[0m\n\u001b[0m\u001b[0;32m    677\u001b[0m \u001b[1;33m\u001b[0m\u001b[0m\n\u001b[0;32m    678\u001b[0m     \u001b[0mparser_f\u001b[0m\u001b[1;33m.\u001b[0m\u001b[0m__name__\u001b[0m \u001b[1;33m=\u001b[0m \u001b[0mname\u001b[0m\u001b[1;33m\u001b[0m\u001b[1;33m\u001b[0m\u001b[0m\n",
      "\u001b[1;32mC:\\Anaconda\\lib\\site-packages\\pandas\\io\\parsers.py\u001b[0m in \u001b[0;36m_read\u001b[1;34m(filepath_or_buffer, kwds)\u001b[0m\n\u001b[0;32m    446\u001b[0m \u001b[1;33m\u001b[0m\u001b[0m\n\u001b[0;32m    447\u001b[0m     \u001b[1;31m# Create the parser.\u001b[0m\u001b[1;33m\u001b[0m\u001b[1;33m\u001b[0m\u001b[1;33m\u001b[0m\u001b[0m\n\u001b[1;32m--> 448\u001b[1;33m     \u001b[0mparser\u001b[0m \u001b[1;33m=\u001b[0m \u001b[0mTextFileReader\u001b[0m\u001b[1;33m(\u001b[0m\u001b[0mfp_or_buf\u001b[0m\u001b[1;33m,\u001b[0m \u001b[1;33m**\u001b[0m\u001b[0mkwds\u001b[0m\u001b[1;33m)\u001b[0m\u001b[1;33m\u001b[0m\u001b[1;33m\u001b[0m\u001b[0m\n\u001b[0m\u001b[0;32m    449\u001b[0m \u001b[1;33m\u001b[0m\u001b[0m\n\u001b[0;32m    450\u001b[0m     \u001b[1;32mif\u001b[0m \u001b[0mchunksize\u001b[0m \u001b[1;32mor\u001b[0m \u001b[0miterator\u001b[0m\u001b[1;33m:\u001b[0m\u001b[1;33m\u001b[0m\u001b[1;33m\u001b[0m\u001b[0m\n",
      "\u001b[1;32mC:\\Anaconda\\lib\\site-packages\\pandas\\io\\parsers.py\u001b[0m in \u001b[0;36m__init__\u001b[1;34m(self, f, engine, **kwds)\u001b[0m\n\u001b[0;32m    878\u001b[0m             \u001b[0mself\u001b[0m\u001b[1;33m.\u001b[0m\u001b[0moptions\u001b[0m\u001b[1;33m[\u001b[0m\u001b[1;34m\"has_index_names\"\u001b[0m\u001b[1;33m]\u001b[0m \u001b[1;33m=\u001b[0m \u001b[0mkwds\u001b[0m\u001b[1;33m[\u001b[0m\u001b[1;34m\"has_index_names\"\u001b[0m\u001b[1;33m]\u001b[0m\u001b[1;33m\u001b[0m\u001b[1;33m\u001b[0m\u001b[0m\n\u001b[0;32m    879\u001b[0m \u001b[1;33m\u001b[0m\u001b[0m\n\u001b[1;32m--> 880\u001b[1;33m         \u001b[0mself\u001b[0m\u001b[1;33m.\u001b[0m\u001b[0m_make_engine\u001b[0m\u001b[1;33m(\u001b[0m\u001b[0mself\u001b[0m\u001b[1;33m.\u001b[0m\u001b[0mengine\u001b[0m\u001b[1;33m)\u001b[0m\u001b[1;33m\u001b[0m\u001b[1;33m\u001b[0m\u001b[0m\n\u001b[0m\u001b[0;32m    881\u001b[0m \u001b[1;33m\u001b[0m\u001b[0m\n\u001b[0;32m    882\u001b[0m     \u001b[1;32mdef\u001b[0m \u001b[0mclose\u001b[0m\u001b[1;33m(\u001b[0m\u001b[0mself\u001b[0m\u001b[1;33m)\u001b[0m\u001b[1;33m:\u001b[0m\u001b[1;33m\u001b[0m\u001b[1;33m\u001b[0m\u001b[0m\n",
      "\u001b[1;32mC:\\Anaconda\\lib\\site-packages\\pandas\\io\\parsers.py\u001b[0m in \u001b[0;36m_make_engine\u001b[1;34m(self, engine)\u001b[0m\n\u001b[0;32m   1112\u001b[0m     \u001b[1;32mdef\u001b[0m \u001b[0m_make_engine\u001b[0m\u001b[1;33m(\u001b[0m\u001b[0mself\u001b[0m\u001b[1;33m,\u001b[0m \u001b[0mengine\u001b[0m\u001b[1;33m=\u001b[0m\u001b[1;34m\"c\"\u001b[0m\u001b[1;33m)\u001b[0m\u001b[1;33m:\u001b[0m\u001b[1;33m\u001b[0m\u001b[1;33m\u001b[0m\u001b[0m\n\u001b[0;32m   1113\u001b[0m         \u001b[1;32mif\u001b[0m \u001b[0mengine\u001b[0m \u001b[1;33m==\u001b[0m \u001b[1;34m\"c\"\u001b[0m\u001b[1;33m:\u001b[0m\u001b[1;33m\u001b[0m\u001b[1;33m\u001b[0m\u001b[0m\n\u001b[1;32m-> 1114\u001b[1;33m             \u001b[0mself\u001b[0m\u001b[1;33m.\u001b[0m\u001b[0m_engine\u001b[0m \u001b[1;33m=\u001b[0m \u001b[0mCParserWrapper\u001b[0m\u001b[1;33m(\u001b[0m\u001b[0mself\u001b[0m\u001b[1;33m.\u001b[0m\u001b[0mf\u001b[0m\u001b[1;33m,\u001b[0m \u001b[1;33m**\u001b[0m\u001b[0mself\u001b[0m\u001b[1;33m.\u001b[0m\u001b[0moptions\u001b[0m\u001b[1;33m)\u001b[0m\u001b[1;33m\u001b[0m\u001b[1;33m\u001b[0m\u001b[0m\n\u001b[0m\u001b[0;32m   1115\u001b[0m         \u001b[1;32melse\u001b[0m\u001b[1;33m:\u001b[0m\u001b[1;33m\u001b[0m\u001b[1;33m\u001b[0m\u001b[0m\n\u001b[0;32m   1116\u001b[0m             \u001b[1;32mif\u001b[0m \u001b[0mengine\u001b[0m \u001b[1;33m==\u001b[0m \u001b[1;34m\"python\"\u001b[0m\u001b[1;33m:\u001b[0m\u001b[1;33m\u001b[0m\u001b[1;33m\u001b[0m\u001b[0m\n",
      "\u001b[1;32mC:\\Anaconda\\lib\\site-packages\\pandas\\io\\parsers.py\u001b[0m in \u001b[0;36m__init__\u001b[1;34m(self, src, **kwds)\u001b[0m\n\u001b[0;32m   1889\u001b[0m         \u001b[0mkwds\u001b[0m\u001b[1;33m[\u001b[0m\u001b[1;34m\"usecols\"\u001b[0m\u001b[1;33m]\u001b[0m \u001b[1;33m=\u001b[0m \u001b[0mself\u001b[0m\u001b[1;33m.\u001b[0m\u001b[0musecols\u001b[0m\u001b[1;33m\u001b[0m\u001b[1;33m\u001b[0m\u001b[0m\n\u001b[0;32m   1890\u001b[0m \u001b[1;33m\u001b[0m\u001b[0m\n\u001b[1;32m-> 1891\u001b[1;33m         \u001b[0mself\u001b[0m\u001b[1;33m.\u001b[0m\u001b[0m_reader\u001b[0m \u001b[1;33m=\u001b[0m \u001b[0mparsers\u001b[0m\u001b[1;33m.\u001b[0m\u001b[0mTextReader\u001b[0m\u001b[1;33m(\u001b[0m\u001b[0msrc\u001b[0m\u001b[1;33m,\u001b[0m \u001b[1;33m**\u001b[0m\u001b[0mkwds\u001b[0m\u001b[1;33m)\u001b[0m\u001b[1;33m\u001b[0m\u001b[1;33m\u001b[0m\u001b[0m\n\u001b[0m\u001b[0;32m   1892\u001b[0m         \u001b[0mself\u001b[0m\u001b[1;33m.\u001b[0m\u001b[0munnamed_cols\u001b[0m \u001b[1;33m=\u001b[0m \u001b[0mself\u001b[0m\u001b[1;33m.\u001b[0m\u001b[0m_reader\u001b[0m\u001b[1;33m.\u001b[0m\u001b[0munnamed_cols\u001b[0m\u001b[1;33m\u001b[0m\u001b[1;33m\u001b[0m\u001b[0m\n\u001b[0;32m   1893\u001b[0m \u001b[1;33m\u001b[0m\u001b[0m\n",
      "\u001b[1;32mpandas\\_libs\\parsers.pyx\u001b[0m in \u001b[0;36mpandas._libs.parsers.TextReader.__cinit__\u001b[1;34m()\u001b[0m\n",
      "\u001b[1;32mpandas\\_libs\\parsers.pyx\u001b[0m in \u001b[0;36mpandas._libs.parsers.TextReader._setup_parser_source\u001b[1;34m()\u001b[0m\n",
      "\u001b[1;31mFileNotFoundError\u001b[0m: [Errno 2] File ..\\..\\pandapipes\\std_types\\library\\Pipe.csv does not exist: '..\\\\..\\\\pandapipes\\\\std_types\\\\library\\\\Pipe.csv'"
     ]
    }
   ],
   "source": [
    "from pandapipes.std_types.std_type_toolbox import get_data\n",
    "#print(get_data(r'..\\pandapipes\\std_types\\library\\Pipe.csv', 'pipe'))\n",
    "print(get_data(r'..\\..\\pandapipes\\std_types\\library\\Pipe.csv', 'pipe'))\n",
    "\n"
   ]
  },
  {
   "cell_type": "markdown",
   "metadata": {},
   "source": [
    "Die CSV-Dateien können selbstverständlich erweitert werden, um neue Einträge hinzuzufügen. Wir werden jetzt ein Beispielnetzwerk erzeugen und dabei Komponenten aus der Bibliothek verwenden."
   ]
  },
  {
   "cell_type": "code",
   "execution_count": null,
   "metadata": {},
   "outputs": [],
   "source": [
    "import pandapipes as pp\n",
    "net = pp.create_empty_network(fluid=\"water\")\n",
    "junction1 = pp.create_junction(net, pn_bar=1.0, tfluid_k=293.15, name=\"Connection to External Grid\")\n",
    "junction2 = pp.create_junction(net, pn_bar=1.0, tfluid_k=293.15, name=\"Junction\")\n",
    "junction3 = pp.create_junction(net, pn_bar=1.0, tfluid_k=293.15, name=\"Junction to sink\")\n",
    "medium_pressure_grid = pp.create_ext_grid(net, junction=junction1, p_bar=1, t_k=293.15, name=\"Grid Connection\")\n",
    "sink = pp.create_sink(net, junction=junction3, mdot_kg_per_s=23.05, name=\"Sink\")"
   ]
  },
  {
   "cell_type": "markdown",
   "metadata": {},
   "source": [
    "Im obigen Code fehlt noch eine Rohrverbindung zwischen junction1 und junction2. Wir laden dazu den Rohrtyp \"300_GGG\" aus der Bibliothek. Dazu wird die Funktion \"create_pipe\" verwendet. Im Gegensatz zur Funktion \"create_pipe_from_parameters\" aus dem Eingangsbeispiel, kann nun ein Parameter zum Laden eines Typs aus der Bibliothek angegeben werden."
   ]
  },
  {
   "cell_type": "code",
   "execution_count": null,
   "metadata": {},
   "outputs": [],
   "source": [
    "pipe1 = pp.create_pipe(net, from_junction=junction2, to_junction=junction3, length_km=1, std_type=\"300_GGG\", name=\"Pipe 1\")"
   ]
  },
  {
   "cell_type": "markdown",
   "metadata": {},
   "source": [
    "Zwischen External Grid und Rohrleitung existiert ebenfalls noch keine Verbindung. Diese wird jetzt durch das Laden einer Pumpenkomponente geschaffen. Das Druckniveau des External Grids wird durch die Pumpe entsprechend der Pumpenkennlinie angehoben."
   ]
  },
  {
   "cell_type": "code",
   "execution_count": null,
   "metadata": {},
   "outputs": [],
   "source": [
    "P1 = pp.create_pump(net, from_junction=junction1, to_junction=junction2, std_type=\"P1\")"
   ]
  },
  {
   "cell_type": "markdown",
   "metadata": {},
   "source": [
    "Das erstellte Netzwerk kann jetzt auf gewohnte Art berechnet werden."
   ]
  },
  {
   "cell_type": "code",
   "execution_count": null,
   "metadata": {},
   "outputs": [],
   "source": [
    "pp.pipeflow(net)\n",
    "net.res_pump\n"
   ]
  },
  {
   "cell_type": "markdown",
   "metadata": {},
   "source": [
    "Die Pumpe erhöht den Druck um 4 bar. Wir können das abschließend nachprüfen, indem wir noch einen Blick auf die Kennlinie der Pumpe werfen."
   ]
  },
  {
   "cell_type": "code",
   "execution_count": null,
   "metadata": {},
   "outputs": [],
   "source": [
    "print(get_data(r'C:\\Users\\dcronbach\\pandapipes\\pandapipes\\std_types\\library\\Pump\\P1.csv', 'pump'))"
   ]
  },
  {
   "cell_type": "markdown",
   "metadata": {},
   "source": [
    "Wir erkennen, dass ein Druckanstieg von 4 bar zu einem Volumenstrom von 83 m^3/h gehört. \"Zufällig\" wird dieser Volumenstrom genau von der definierten sink abgenommen (23.05 kg/s entsprechen 83 m^3/h) und durch die einzige vorhandene Rohrleitung transportiert."
   ]
  },
  {
   "cell_type": "markdown",
   "metadata": {},
   "source": [
    "## Die Fluidbibliothek"
   ]
  },
  {
   "cell_type": "markdown",
   "metadata": {},
   "source": [
    "Bisher wurde das Fluid als Parameter der Funktion \"create_empty_network\" definiert. Dabei wird intern auf die hinterlegten Materialeigenschaften zurückgegriffen, die unter dem angegebenen Namen gespeichert sind. Einige der hinterlegten Fluidtypen sind\n",
    "\n",
    "- air\n",
    "- hydrogen\n",
    "- lgas\n",
    "- hgas\n",
    "- water\n",
    "- methane\n",
    "\n",
    "Für die Berechnung der Druckes und der Strömungsgeschwindigkeit muss die Dichte und Viskosität angegeben werden. Bei Gasberechnungen können diese Stoffeigenschaften außerdem temperaturabhängig sein. Für Temperaturberechnungen oder weitere Berechnungsmodi können weitere Stoffeigenschaften, bspw. die Wärmekapazität, benötigt werden.\n",
    "\n",
    "Einen Überblick über die hinterlegten Eigenschaften und Fluide erhalten Sie unter pandapipes\\properties. Im Ordner des entsprechenden Fluids sehen Sie die Stoffeigenschaften, für die aktuell Daten zur Verfügung stehen. In der zugehörigen Textdatei können Stützpunkte für die Temperaturabhängigkeit hinterlegt werden. Während der Berechnung wird zwischen diesen Punkten interpoliert.\n",
    "\n",
    "Über das aktuell im Netz enthaltende Fluid können Sie auch aus dem Programm heraus einiges in Erfahrung bringen. Dabei hilft die Funktion get_property(), wie im Folgenden demonstriert wird."
   ]
  },
  {
   "cell_type": "code",
   "execution_count": null,
   "metadata": {},
   "outputs": [],
   "source": [
    "net.fluid.get_property(\"density\", 295)"
   ]
  },
  {
   "cell_type": "markdown",
   "metadata": {},
   "source": [
    "Der zweite Parameter ist die Temperatur, bei der die Dichte ausgegeben werden soll."
   ]
  },
  {
   "cell_type": "markdown",
   "metadata": {},
   "source": [
    "## Neue Fluide definieren"
   ]
  },
  {
   "cell_type": "markdown",
   "metadata": {},
   "source": [
    "pandapipes bietet die Möglichkeit, neue Fluide zu definieren oder bestehende Fluide zu modifizieren. Die bisher genutzten Fluide besaßen, wie bereits erwähnt, eine Temperaturabhängigkeit. Im Folgenden wird ein neues,inkompressibles Fluid mit konstanten Materialeigenschaften erstellt und anschließend dem Netz hinzugefügt.\n",
    "\n",
    "In einem ersten Schritt werden dazu die gewünschten Materialeigenschaften erstellt. Diese Eigenschaften werden dann von einem Fluid-Container aufgenommen. Datenstrukturtechnisch handelt es sich sowohl bei den Eigenschaften, als auch bei dem eigentlichen Fluid, um Klassen."
   ]
  },
  {
   "cell_type": "code",
   "execution_count": null,
   "metadata": {},
   "outputs": [],
   "source": [
    "import pandapipes.properties.fluids as fl\n",
    "density_const = fl.FluidPropertyConstant(900)\n",
    "viscosity_const = fl.FluidPropertyConstant(0.002)\n",
    "heat_capacity_const = fl.FluidPropertyConstant(4000)"
   ]
  },
  {
   "cell_type": "markdown",
   "metadata": {},
   "source": [
    "Die drei Eigenschaften  Dichte (density), Viskosität (viscosity) und Wärmekapazität (heat_capacity) werden in jedem Fall benötigt. Für jede Eigenschaft wird ein Objekt der Klasse \"FluidPropertyConstant\" angelegt und der konstante Wert der Eigenschaft dem Konstruktor übergeben. Die Eigenschaften werden alle in den entsprechenden SI-Einheiten definiert.\n",
    "\n",
    "Obwohl wir hier nur konstante Eigenschaften betrachten, stellt pandapipes auch Klassen zur Verfügung, mit deren Hilfe aus Daten inter- und extrapoliert werden kann. Diese Klassen werden entsprechend auch für die bereits vorhandenen Fluide genutzt, hier aber nicht weiter betrachtet.\n",
    "\n",
    "Es folgt der zweite Schritt, in dem der Fluid-Container erstellt wird und die bereits definierten Eigenschaften diesem hinzugefügt werden."
   ]
  },
  {
   "cell_type": "code",
   "execution_count": null,
   "metadata": {},
   "outputs": [],
   "source": [
    "water_const =  fl.Fluid(\"water_const\",\"liquid\")\n",
    "water_const.add_property(property_name=\"density\",prop=density_const)\n",
    "water_const.add_property(property_name=\"viscosity\",prop=viscosity_const)\n",
    "water_const.add_property(property_name=\"heat_capacity\",prop= heat_capacity_const)"
   ]
  },
  {
   "cell_type": "markdown",
   "metadata": {},
   "source": [
    "Das Fluid ist jetzt für die Berechnung inkompressibler Medien geeignet. Mit dem Befehl"
   ]
  },
  {
   "cell_type": "code",
   "execution_count": null,
   "metadata": {},
   "outputs": [],
   "source": [
    "fl._add_fluid_to_net(net,water_const)"
   ]
  },
  {
   "cell_type": "markdown",
   "metadata": {},
   "source": [
    "kann das Fluid dem bereits erstellten Netz hinzugefügt werden. Durch erneutes Plotten der Fluideigenschaften stellen wir fest, dass das alte Fluid ersetzt worden ist."
   ]
  },
  {
   "cell_type": "code",
   "execution_count": null,
   "metadata": {},
   "outputs": [],
   "source": [
    "net.fluid"
   ]
  },
  {
   "cell_type": "markdown",
   "metadata": {},
   "source": [
    "## Lessons learned"
   ]
  },
  {
   "cell_type": "markdown",
   "metadata": {
    "collapsed": true
   },
   "source": [
    "Nach dem Durcharbeiten dieses Tutorials sollten Sie wissen,\n",
    "\n",
    "- dass es eine Komponentenbibliothek in pandapipes gibt, aus der Daten für Rohrleitungen und Pumpen entnommen werden können.\n",
    "- wie Sie Komponenten aus der Bibliothek nutzen können.\n",
    "- wie Sie neue Einträge der Bibliothek hinzufügen können.\n",
    "- wie Fluide in pandapipes beschrieben werden.\n",
    "- wie Sie herausfinden können, welche Fluide pandapipes bereits bereitstellt und wie diese einem Netz hinzugefügt werden können.\n",
    "- wie Sie eigene Fluide mit konstanten Stoffeigenschaften erzeugen können."
   ]
  },
  {
   "cell_type": "markdown",
   "metadata": {},
   "source": [
    "## Aufgaben"
   ]
  },
  {
   "cell_type": "markdown",
   "metadata": {},
   "source": [
    "1. Wenn Sie mit dem konstanten Fluid erneut eine Berechnung durchführen, so erscheint in der Konsole eine Warnung. Können Sie sich vorstellen, warum diese angezeigt wird?\n",
    "2. Wählen Sie eine andere Rohrleitung aus der Bibliothek aus und rechnen Sie erneut. "
   ]
  }
 ],
 "metadata": {
  "anaconda-cloud": {},
  "kernelspec": {
   "display_name": "Python 3",
   "language": "python",
   "name": "python3"
  },
  "language_info": {
   "codemirror_mode": {
    "name": "ipython",
    "version": 3
   },
   "file_extension": ".py",
   "mimetype": "text/x-python",
   "name": "python",
   "nbconvert_exporter": "python",
   "pygments_lexer": "ipython3",
   "version": "3.7.4"
  }
 },
 "nbformat": 4,
 "nbformat_minor": 1
}
